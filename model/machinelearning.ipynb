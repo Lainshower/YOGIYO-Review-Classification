{
 "cells": [
  {
   "cell_type": "code",
   "execution_count": 241,
   "metadata": {},
   "outputs": [],
   "source": [
    "import numpy as np\n",
    "import pandas as pd\n",
    "import matplotlib.pyplot as plt\n",
    "import seaborn as sns\n",
    "from tqdm import tqdm\n",
    "from gensim import models\n",
    "from konlpy.tag import Mecab\n",
    "from sklearn.preprocessing import StandardScaler\n",
    "from sklearn.metrics import *\n",
    "from sklearn.model_selection import GridSearchCV, RandomizedSearchCV\n",
    "from sklearn.model_selection import cross_val_score, cross_validate\n",
    "from xgboost import XGBClassifier\n",
    "from sklearn.ensemble import RandomForestClassifier\n",
    "import matplotlib.pyplot as plt\n",
    "from sklearn.metrics import ConfusionMatrixDisplay\n",
    "from sklearn.linear_model import SGDClassifier"
   ]
  },
  {
   "cell_type": "markdown",
   "metadata": {},
   "source": [
    "# Data Loading"
   ]
  },
  {
   "cell_type": "code",
   "execution_count": 109,
   "metadata": {},
   "outputs": [],
   "source": [
    "ko_model = models.fasttext.load_facebook_model('/home/fakenews/advanced_ml/src/fasttext_wiki/wiki.ko.bin')\n",
    "mecab = Mecab()"
   ]
  },
  {
   "cell_type": "code",
   "execution_count": 110,
   "metadata": {},
   "outputs": [],
   "source": [
    "labels = ['taste','delivery','quantity']"
   ]
  },
  {
   "cell_type": "code",
   "execution_count": 111,
   "metadata": {},
   "outputs": [],
   "source": [
    "def get_datas(): #데이터 불러오기\n",
    "    datas = dict()\n",
    "    for label in labels:\n",
    "        train_df = pd.read_csv(f\"dataset/1119/train_{label}.csv\")\n",
    "        test_df = pd.read_csv(f\"dataset/1119/test_{label}.csv\")\n",
    "        datas[label] = (train_df,test_df)\n",
    "    return datas"
   ]
  },
  {
   "cell_type": "code",
   "execution_count": 112,
   "metadata": {},
   "outputs": [],
   "source": [
    "def get_vector_label(datas):\n",
    "    vector_label_pairs = dict()\n",
    "\n",
    "    # Get Train Vectors\n",
    "    for label in labels:\n",
    "        dfs = datas[label]\n",
    "        train_df, test_df = dfs\n",
    "        train_vectors = []\n",
    "        for i in tqdm(range(train_df.shape[0])):\n",
    "            vc = np.zeros((300))\n",
    "            pos_list = mecab.pos(train_df['text'].iloc[i])\n",
    "            for pos in pos_list:\n",
    "                vc = vc + ko_model.wv.word_vec(pos[0])\n",
    "            vc = vc/len(pos_list)\n",
    "            train_vectors.append(vc)\n",
    "        X_train_fastetext_emb = np.array(train_vectors)\n",
    "        train_label = train_df[label]\n",
    "\n",
    "        # Get Test Vectors\n",
    "        test_vectors = []\n",
    "        for i in tqdm(range(test_df.shape[0])):\n",
    "            vc = np.zeros((300))\n",
    "            pos_list = mecab.pos(test_df['text'].iloc[i])\n",
    "            for pos in pos_list:\n",
    "                vc = vc + ko_model.wv.word_vec(pos[0])\n",
    "            vc = vc/len(pos_list)\n",
    "            test_vectors.append(vc)\n",
    "        X_test_fastetext_emb = np.array(test_vectors)\n",
    "        test_label = test_df[label]\n",
    "\n",
    "        vector_label_pairs[label] = ((X_train_fastetext_emb,train_label),(X_test_fastetext_emb,test_label))\n",
    "    return vector_label_pairs"
   ]
  },
  {
   "cell_type": "code",
   "execution_count": 113,
   "metadata": {},
   "outputs": [],
   "source": [
    "datas = get_datas()"
   ]
  },
  {
   "cell_type": "code",
   "execution_count": 117,
   "metadata": {},
   "outputs": [
    {
     "name": "stderr",
     "output_type": "stream",
     "text": [
      "100%|██████████| 105803/105803 [00:25<00:00, 4137.80it/s]\n",
      "100%|██████████| 11756/11756 [00:02<00:00, 4169.54it/s]\n",
      "100%|██████████| 29903/29903 [00:08<00:00, 3567.17it/s]\n",
      "100%|██████████| 3323/3323 [00:00<00:00, 3595.59it/s]\n",
      "100%|██████████| 23499/23499 [00:06<00:00, 3406.34it/s]\n",
      "100%|██████████| 2612/2612 [00:00<00:00, 3367.46it/s]\n"
     ]
    }
   ],
   "source": [
    "vector_label = get_vector_label(datas)"
   ]
  },
  {
   "cell_type": "markdown",
   "metadata": {},
   "source": [
    "# ML"
   ]
  },
  {
   "cell_type": "markdown",
   "metadata": {},
   "source": [
    "XGBoost, Random Forest, SGD Classifier 를 사용하여 실험을 진행"
   ]
  },
  {
   "cell_type": "markdown",
   "metadata": {},
   "source": [
    "## XGBoost"
   ]
  },
  {
   "cell_type": "markdown",
   "metadata": {},
   "source": [
    "전체 sample을 5로 예측했을 때 보다 정확도가 소폭 증가했으며, 다른 두 모델에 비해 각 카테고리별 별점을 5로 치우쳐진 예측을 하는 경향성이 떨어졌다."
   ]
  },
  {
   "cell_type": "code",
   "execution_count": 92,
   "metadata": {
    "scrolled": true
   },
   "outputs": [
    {
     "name": "stdout",
     "output_type": "stream",
     "text": [
      "Fitting 5 folds for each of 5 candidates, totalling 25 fits\n"
     ]
    },
    {
     "name": "stderr",
     "output_type": "stream",
     "text": [
      "/home/fakenews/anaconda3/envs/fakenews/lib/python3.7/site-packages/xgboost/sklearn.py:1224: UserWarning: The use of label encoder in XGBClassifier is deprecated and will be removed in a future release. To remove this warning, do the following: 1) Pass option use_label_encoder=False when constructing XGBClassifier object; and 2) Encode your labels (y) as integers starting with 0, i.e. 0, 1, 2, ..., [num_class - 1].\n",
      "  warnings.warn(label_encoder_deprecation_msg, UserWarning)\n"
     ]
    },
    {
     "name": "stdout",
     "output_type": "stream",
     "text": [
      "[13:01:20] WARNING: ../src/learner.cc:1115: Starting in XGBoost 1.3.0, the default evaluation metric used with the objective 'multi:softprob' was changed from 'merror' to 'mlogloss'. Explicitly set eval_metric if you'd like to restore the old behavior.\n",
      "[13:02:37] WARNING: ../src/learner.cc:1115: Starting in XGBoost 1.3.0, the default evaluation metric used with the objective 'multi:softprob' was changed from 'merror' to 'mlogloss'. Explicitly set eval_metric if you'd like to restore the old behavior.\n",
      "Fitting 5 folds for each of 5 candidates, totalling 25 fits\n"
     ]
    },
    {
     "name": "stderr",
     "output_type": "stream",
     "text": [
      "/home/fakenews/anaconda3/envs/fakenews/lib/python3.7/site-packages/xgboost/sklearn.py:1224: UserWarning: The use of label encoder in XGBClassifier is deprecated and will be removed in a future release. To remove this warning, do the following: 1) Pass option use_label_encoder=False when constructing XGBClassifier object; and 2) Encode your labels (y) as integers starting with 0, i.e. 0, 1, 2, ..., [num_class - 1].\n",
      "  warnings.warn(label_encoder_deprecation_msg, UserWarning)\n"
     ]
    },
    {
     "name": "stdout",
     "output_type": "stream",
     "text": [
      "[13:13:17] WARNING: ../src/learner.cc:1115: Starting in XGBoost 1.3.0, the default evaluation metric used with the objective 'multi:softprob' was changed from 'merror' to 'mlogloss'. Explicitly set eval_metric if you'd like to restore the old behavior.\n",
      "[13:13:40] WARNING: ../src/learner.cc:1115: Starting in XGBoost 1.3.0, the default evaluation metric used with the objective 'multi:softprob' was changed from 'merror' to 'mlogloss'. Explicitly set eval_metric if you'd like to restore the old behavior.\n",
      "Fitting 5 folds for each of 5 candidates, totalling 25 fits\n"
     ]
    },
    {
     "name": "stderr",
     "output_type": "stream",
     "text": [
      "/home/fakenews/anaconda3/envs/fakenews/lib/python3.7/site-packages/xgboost/sklearn.py:1224: UserWarning: The use of label encoder in XGBClassifier is deprecated and will be removed in a future release. To remove this warning, do the following: 1) Pass option use_label_encoder=False when constructing XGBClassifier object; and 2) Encode your labels (y) as integers starting with 0, i.e. 0, 1, 2, ..., [num_class - 1].\n",
      "  warnings.warn(label_encoder_deprecation_msg, UserWarning)\n"
     ]
    },
    {
     "name": "stdout",
     "output_type": "stream",
     "text": [
      "[13:21:58] WARNING: ../src/learner.cc:1115: Starting in XGBoost 1.3.0, the default evaluation metric used with the objective 'multi:softprob' was changed from 'merror' to 'mlogloss'. Explicitly set eval_metric if you'd like to restore the old behavior.\n",
      "[13:22:18] WARNING: ../src/learner.cc:1115: Starting in XGBoost 1.3.0, the default evaluation metric used with the objective 'multi:softprob' was changed from 'merror' to 'mlogloss'. Explicitly set eval_metric if you'd like to restore the old behavior.\n"
     ]
    }
   ],
   "source": [
    "#random search를 사용하여 파라미터 튜닝을 마친 모델 딕셔너리로 저장\n",
    "xgb_best_models = dict() \n",
    "for label in labels:\n",
    "    train_tup, test_tup = vector_label[label]\n",
    "    x_train, y_train = train_tup\n",
    "    x_test, y_test = test_tup\n",
    "    xgb = XGBClassifier()\n",
    "    xgb_params = {\n",
    "        'min_child_weight': [1, 5, 10],\n",
    "        'gamma': [0.5, 1, 1.5, 2, 5],\n",
    "        'subsample': [0.6, 0.8, 1.0],\n",
    "        'colsample_bytree': [0.6, 0.8, 1.0],\n",
    "        'max_depth': [3, 4, 5]\n",
    "    }\n",
    "    \n",
    "    rnd_search = RandomizedSearchCV(xgb, param_distributions=xgb_params, n_iter=5,\n",
    "                                   scoring='accuracy', n_jobs=4, verbose=3, random_state=42)\n",
    "    rnd_search.fit(x_train, y_train)\n",
    "    best_xgb = rnd_search.best_estimator_\n",
    "    best_xgb.fit(x_train,y_train)\n",
    "    xgb_best_models[label] = best_xgb"
   ]
  },
  {
   "cell_type": "markdown",
   "metadata": {},
   "source": [
    "### taste"
   ]
  },
  {
   "cell_type": "code",
   "execution_count": 206,
   "metadata": {},
   "outputs": [],
   "source": [
    "train_tup, test_tup = vector_label['taste']\n",
    "x_train, y_train = train_tup\n",
    "x_test, y_test = test_tup"
   ]
  },
  {
   "cell_type": "code",
   "execution_count": 253,
   "metadata": {},
   "outputs": [],
   "source": [
    "xgb_taste = xgb_best_models['taste']\n",
    "train_taste,test_taste = datas['taste']\n",
    "y_pred_taste = xgb_taste.predict(x_test)\n"
   ]
  },
  {
   "cell_type": "code",
   "execution_count": 209,
   "metadata": {},
   "outputs": [],
   "source": [
    "test_taste_score = test_taste['taste']"
   ]
  },
  {
   "cell_type": "code",
   "execution_count": 211,
   "metadata": {
    "scrolled": false
   },
   "outputs": [
    {
     "name": "stdout",
     "output_type": "stream",
     "text": [
      "              precision    recall  f1-score   support\n",
      "\n",
      "           1       0.42      0.12      0.19        89\n",
      "           2       0.25      0.01      0.03        73\n",
      "           3       0.47      0.05      0.09       288\n",
      "           4       0.46      0.02      0.04      1186\n",
      "           5       0.87      1.00      0.93     10120\n",
      "\n",
      "    accuracy                           0.86     11756\n",
      "   macro avg       0.49      0.24      0.25     11756\n",
      "weighted avg       0.81      0.86      0.81     11756\n",
      "\n"
     ]
    }
   ],
   "source": [
    "#precision, recall f-score 확인\n",
    "print(classification_report(test_taste_score, y_pred_taste, target_names=(\"1\", \"2\", \"3\", \"4\", \"5\")))\n",
    "test_taste['xgb_taste_pred'] = y_pred_taste "
   ]
  },
  {
   "cell_type": "markdown",
   "metadata": {},
   "source": [
    "#### 실제 별점과는 다르지만 텍스트 기반으로 별점을 예측한 결과"
   ]
  },
  {
   "cell_type": "markdown",
   "metadata": {},
   "source": [
    "'맛'\n",
    "\n",
    "실제 : 3 - Pred : 1 - Text : 햄버거가 .. 점점 맛이 없어져요.\n",
    "\n",
    "실제 : 4 - Pred : 5 - Text : 처음 먹어봤는데 맛있어요!"
   ]
  },
  {
   "cell_type": "code",
   "execution_count": null,
   "metadata": {},
   "outputs": [],
   "source": [
    "for i in range(test_taste.shape[0]):\n",
    "\tif(test_taste['xgb_taste_pred'][i]!=5):\n",
    "\t\tprint(f\"Label : {test_taste['taste'][i]} - Pred : {test_taste['xgb_taste_pred'][i]} - Text : {test_taste['text'][i]}\")"
   ]
  },
  {
   "cell_type": "code",
   "execution_count": 234,
   "metadata": {},
   "outputs": [
    {
     "data": {
      "text/plain": [
       "<sklearn.metrics._plot.confusion_matrix.ConfusionMatrixDisplay at 0x7f8ba9390bd0>"
      ]
     },
     "execution_count": 234,
     "metadata": {},
     "output_type": "execute_result"
    },
    {
     "data": {
      "image/png": "[encoded data removed]",
      "text/plain": [
       "<Figure size 432x288 with 2 Axes>"
      ]
     },
     "metadata": {
      "needs_background": "light"
     },
     "output_type": "display_data"
    }
   ],
   "source": [
    "disp = ConfusionMatrixDisplay(confusion_matrix=confusion_matrix(test_taste_score,y_pred_taste))\n",
    "disp.plot(cmap='Blues')"
   ]
  },
  {
   "cell_type": "markdown",
   "metadata": {},
   "source": [
    "### quantity"
   ]
  },
  {
   "cell_type": "code",
   "execution_count": 170,
   "metadata": {},
   "outputs": [],
   "source": [
    "train_tup_quan, test_tup_quan = vector_label['quantity']\n",
    "x_train_quan, y_train_quan = train_tup_quan\n",
    "x_test_quan, y_test_quan = test_tup_quan"
   ]
  },
  {
   "cell_type": "code",
   "execution_count": 172,
   "metadata": {},
   "outputs": [],
   "source": [
    "xgb_quantity = xgb_best_models['quantity']\n",
    "train_quantity,test_quantity = datas['quantity']\n",
    "y_pred_quantity = xgb_quantity.predict(x_test_quan)\n"
   ]
  },
  {
   "cell_type": "code",
   "execution_count": 174,
   "metadata": {},
   "outputs": [],
   "source": [
    "test_quantity_score = test_quantity['quantity']"
   ]
  },
  {
   "cell_type": "code",
   "execution_count": 175,
   "metadata": {},
   "outputs": [
    {
     "name": "stdout",
     "output_type": "stream",
     "text": [
      "              precision    recall  f1-score   support\n",
      "\n",
      "           1       0.69      0.29      0.41        38\n",
      "           2       0.14      0.02      0.04        46\n",
      "           3       0.47      0.26      0.33       134\n",
      "           4       0.35      0.08      0.13       268\n",
      "           5       0.85      0.98      0.91      2126\n",
      "\n",
      "    accuracy                           0.83      2612\n",
      "   macro avg       0.50      0.33      0.36      2612\n",
      "weighted avg       0.77      0.83      0.78      2612\n",
      "\n"
     ]
    }
   ],
   "source": [
    "#precision, recall f-score 확인\n",
    "print(classification_report(test_quantity_score, y_pred_quantity, target_names=(\"1\", \"2\", \"3\", \"4\", \"5\")))\n",
    "test_quantity['xgb_quantity_pred'] = y_pred_quantity "
   ]
  },
  {
   "cell_type": "markdown",
   "metadata": {},
   "source": [
    "#### 실제 별점과는 다르지만 텍스트 기반으로 별점을 예측한 결과"
   ]
  },
  {
   "cell_type": "markdown",
   "metadata": {},
   "source": [
    "'양'\n",
    "\n",
    "실제 : 2 - Pred : 3 - Text : 맛은 그럭저럭. 양은 흐으음...... 배달은 빠름.\n",
    "\n",
    "실제 : 4 - Pred : 3 - Text : 프라이드는 역시 이집인 듯 요ㅎ양이 살짝 적은 거 같지만 잘 먹겠습니다"
   ]
  },
  {
   "cell_type": "code",
   "execution_count": 235,
   "metadata": {},
   "outputs": [
    {
     "data": {
      "text/plain": [
       "<sklearn.metrics._plot.confusion_matrix.ConfusionMatrixDisplay at 0x7f8d817db1d0>"
      ]
     },
     "execution_count": 235,
     "metadata": {},
     "output_type": "execute_result"
    },
    {
     "data": {
      "image/png": "[encoded data removed]",
      "text/plain": [
       "<Figure size 432x288 with 2 Axes>"
      ]
     },
     "metadata": {
      "needs_background": "light"
     },
     "output_type": "display_data"
    }
   ],
   "source": [
    "disp = ConfusionMatrixDisplay(confusion_matrix=confusion_matrix(test_quantity_score,y_pred_quantity))\n",
    "disp.plot(cmap='Blues')"
   ]
  },
  {
   "cell_type": "markdown",
   "metadata": {},
   "source": [
    "### delivery"
   ]
  },
  {
   "cell_type": "code",
   "execution_count": 178,
   "metadata": {},
   "outputs": [],
   "source": [
    "train_tup_deliv, test_tup_deliv = vector_label['delivery']\n",
    "x_train_deliv, y_train_deliv = train_tup_deliv\n",
    "x_test_deliv, y_test_deliv = test_tup_deliv"
   ]
  },
  {
   "cell_type": "code",
   "execution_count": 179,
   "metadata": {},
   "outputs": [],
   "source": [
    "xgb_delivery = xgb_best_models['delivery']\n",
    "train_delivery,test_delivery = datas['delivery']\n",
    "y_pred_delivery = xgb_delivery.predict(x_test_deliv)\n"
   ]
  },
  {
   "cell_type": "code",
   "execution_count": 182,
   "metadata": {},
   "outputs": [],
   "source": [
    "test_delivery_score = test_delivery['delivery']"
   ]
  },
  {
   "cell_type": "code",
   "execution_count": 184,
   "metadata": {},
   "outputs": [
    {
     "name": "stdout",
     "output_type": "stream",
     "text": [
      "              precision    recall  f1-score   support\n",
      "\n",
      "           1       0.64      0.57      0.60       167\n",
      "           2       0.31      0.08      0.13        62\n",
      "           3       0.45      0.17      0.25       143\n",
      "           4       0.31      0.06      0.10       278\n",
      "           5       0.86      0.98      0.92      2673\n",
      "\n",
      "    accuracy                           0.83      3323\n",
      "   macro avg       0.52      0.38      0.40      3323\n",
      "weighted avg       0.78      0.83      0.79      3323\n",
      "\n"
     ]
    }
   ],
   "source": [
    "#precision, recall f-score 확인\n",
    "print(classification_report(test_delivery_score, y_pred_delivery, target_names=(\"1\", \"2\", \"3\", \"4\", \"5\")))\n",
    "test_delivery['xgb_delivery_pred'] = y_pred_delivery"
   ]
  },
  {
   "cell_type": "markdown",
   "metadata": {},
   "source": [
    "#### 실제 별점과는 다르지만 텍스트 기반으로 별점을 예측한 결과"
   ]
  },
  {
   "cell_type": "markdown",
   "metadata": {},
   "source": [
    "'배달'\n",
    "\n",
    "실제 : 3 - Pred : 1 - Text : 배달시간 오래 걸리는 거 빼곤 조음\n",
    "\n",
    "실제 : 4 - Pred : 1 - Text : 배달.. 너무 오래 걸리네요"
   ]
  },
  {
   "cell_type": "code",
   "execution_count": 236,
   "metadata": {},
   "outputs": [
    {
     "data": {
      "text/plain": [
       "<sklearn.metrics._plot.confusion_matrix.ConfusionMatrixDisplay at 0x7f8d815b1e50>"
      ]
     },
     "execution_count": 236,
     "metadata": {},
     "output_type": "execute_result"
    },
    {
     "data": {
      "image/png": "[encoded data removed]",
      "text/plain": [
       "<Figure size 432x288 with 2 Axes>"
      ]
     },
     "metadata": {
      "needs_background": "light"
     },
     "output_type": "display_data"
    }
   ],
   "source": [
    "disp = ConfusionMatrixDisplay(confusion_matrix=confusion_matrix(test_delivery_score,y_pred_delivery))\n",
    "disp.plot(cmap='Blues')"
   ]
  },
  {
   "cell_type": "markdown",
   "metadata": {},
   "source": [
    "## Random Forest"
   ]
  },
  {
   "cell_type": "code",
   "execution_count": 1,
   "metadata": {},
   "outputs": [
    {
     "ename": "NameError",
     "evalue": "name 'labels' is not defined",
     "output_type": "error",
     "traceback": [
      "\u001b[1;31m---------------------------------------------------------------------------\u001b[0m",
      "\u001b[1;31mNameError\u001b[0m                                 Traceback (most recent call last)",
      "\u001b[1;32m~\\AppData\\Local\\Temp/ipykernel_3600/3039660911.py\u001b[0m in \u001b[0;36m<module>\u001b[1;34m\u001b[0m\n\u001b[0;32m      1\u001b[0m \u001b[0mrf_best_models\u001b[0m \u001b[1;33m=\u001b[0m \u001b[0mdict\u001b[0m\u001b[1;33m(\u001b[0m\u001b[1;33m)\u001b[0m \u001b[1;31m#random search를 사용하여 파라미터 튜닝을 마친 모델 딕셔너리로 저장\u001b[0m\u001b[1;33m\u001b[0m\u001b[1;33m\u001b[0m\u001b[0m\n\u001b[1;32m----> 2\u001b[1;33m \u001b[1;32mfor\u001b[0m \u001b[0mlabel\u001b[0m \u001b[1;32min\u001b[0m \u001b[0mlabels\u001b[0m\u001b[1;33m:\u001b[0m\u001b[1;33m\u001b[0m\u001b[1;33m\u001b[0m\u001b[0m\n\u001b[0m\u001b[0;32m      3\u001b[0m     \u001b[0mtrain_tup\u001b[0m\u001b[1;33m,\u001b[0m \u001b[0mtest_tup\u001b[0m \u001b[1;33m=\u001b[0m \u001b[0mvector_label\u001b[0m\u001b[1;33m[\u001b[0m\u001b[0mlabel\u001b[0m\u001b[1;33m]\u001b[0m\u001b[1;33m\u001b[0m\u001b[1;33m\u001b[0m\u001b[0m\n\u001b[0;32m      4\u001b[0m     \u001b[0mx_train\u001b[0m\u001b[1;33m,\u001b[0m \u001b[0my_train\u001b[0m \u001b[1;33m=\u001b[0m \u001b[0mtrain_tup\u001b[0m\u001b[1;33m\u001b[0m\u001b[1;33m\u001b[0m\u001b[0m\n\u001b[0;32m      5\u001b[0m     \u001b[0mx_test\u001b[0m\u001b[1;33m,\u001b[0m \u001b[0my_test\u001b[0m \u001b[1;33m=\u001b[0m \u001b[0mtest_tup\u001b[0m\u001b[1;33m\u001b[0m\u001b[1;33m\u001b[0m\u001b[0m\n",
      "\u001b[1;31mNameError\u001b[0m: name 'labels' is not defined"
     ]
    }
   ],
   "source": [
    "rf_best_models = dict() #random search를 사용하여 파라미터 튜닝을 마친 모델 딕셔너리로 저장\n",
    "for label in labels:\n",
    "    train_tup, test_tup = vector_label[label]\n",
    "    x_train, y_train = train_tup\n",
    "    x_test, y_test = test_tup\n",
    "    rf_clf = RandomForestClassifier()\n",
    "    rf_params = { 'n_estimators' : [10, 30, 50],\n",
    "           'max_depth' : [2, 4, 6, 8],\n",
    "           'max_features' : [2, 4, 6, 8],\n",
    "           'min_samples_leaf' : [12, 18, 24],\n",
    "           'min_samples_split' : [8, 16, 20]\n",
    "    }\n",
    "\n",
    "    randomized_search = RandomizedSearchCV(rf_clf, param_distributions=rf_params, n_iter=5, return_train_score=True, scoring='accuracy', cv=5) \n",
    "    randomized_search.fit(x_train, y_train)\n",
    "    best_rf = randomized_search.best_estimator_\n",
    "    best_rf.fit(x_train,y_train)\n",
    "    rf_best_models[label] = best_rf\n",
    "    "
   ]
  },
  {
   "cell_type": "markdown",
   "metadata": {},
   "source": [
    "Random Forest는 거의 대부분을 5로 예측하는 경향성이 있음"
   ]
  },
  {
   "cell_type": "markdown",
   "metadata": {},
   "source": [
    "### taste"
   ]
  },
  {
   "cell_type": "code",
   "execution_count": 254,
   "metadata": {},
   "outputs": [],
   "source": [
    "train_tup, test_tup = vector_label['taste']\n",
    "x_train, y_train = train_tup\n",
    "x_test, y_test = test_tup"
   ]
  },
  {
   "cell_type": "code",
   "execution_count": 255,
   "metadata": {},
   "outputs": [
    {
     "data": {
      "text/plain": [
       "RandomForestClassifier(max_depth=4, max_features=6, min_samples_leaf=18,\n",
       "                       min_samples_split=8, n_estimators=10)"
      ]
     },
     "execution_count": 255,
     "metadata": {},
     "output_type": "execute_result"
    }
   ],
   "source": [
    "rf_best_models['taste']"
   ]
  },
  {
   "cell_type": "code",
   "execution_count": 256,
   "metadata": {},
   "outputs": [],
   "source": [
    "rf_taste = rf_best_models['taste']\n",
    "y_pred_rf_taste = rf_taste.predict(x_test)\n"
   ]
  },
  {
   "cell_type": "code",
   "execution_count": 261,
   "metadata": {},
   "outputs": [
    {
     "name": "stdout",
     "output_type": "stream",
     "text": [
      "              precision    recall  f1-score   support\n",
      "\n",
      "           1       0.00      0.00      0.00        89\n",
      "           2       0.00      0.00      0.00        73\n",
      "           3       0.00      0.00      0.00       288\n",
      "           4       0.00      0.00      0.00      1186\n",
      "           5       0.86      1.00      0.93     10120\n",
      "\n",
      "    accuracy                           0.86     11756\n",
      "   macro avg       0.17      0.20      0.19     11756\n",
      "weighted avg       0.74      0.86      0.80     11756\n",
      "\n"
     ]
    },
    {
     "name": "stderr",
     "output_type": "stream",
     "text": [
      "/home/fakenews/anaconda3/envs/fakenews/lib/python3.7/site-packages/sklearn/metrics/_classification.py:1245: UndefinedMetricWarning: Precision and F-score are ill-defined and being set to 0.0 in labels with no predicted samples. Use `zero_division` parameter to control this behavior.\n",
      "  _warn_prf(average, modifier, msg_start, len(result))\n",
      "/home/fakenews/anaconda3/envs/fakenews/lib/python3.7/site-packages/sklearn/metrics/_classification.py:1245: UndefinedMetricWarning: Precision and F-score are ill-defined and being set to 0.0 in labels with no predicted samples. Use `zero_division` parameter to control this behavior.\n",
      "  _warn_prf(average, modifier, msg_start, len(result))\n",
      "/home/fakenews/anaconda3/envs/fakenews/lib/python3.7/site-packages/sklearn/metrics/_classification.py:1245: UndefinedMetricWarning: Precision and F-score are ill-defined and being set to 0.0 in labels with no predicted samples. Use `zero_division` parameter to control this behavior.\n",
      "  _warn_prf(average, modifier, msg_start, len(result))\n"
     ]
    }
   ],
   "source": [
    "print(classification_report(test_taste_score, y_pred_rf_taste, target_names=(\"1\", \"2\", \"3\", \"4\", \"5\")))\n",
    "test_taste['rf_taste_pred'] = y_pred_rf_taste\n"
   ]
  },
  {
   "cell_type": "code",
   "execution_count": 296,
   "metadata": {},
   "outputs": [
    {
     "data": {
      "text/plain": [
       "<sklearn.metrics._plot.confusion_matrix.ConfusionMatrixDisplay at 0x7f8d83f88450>"
      ]
     },
     "execution_count": 296,
     "metadata": {},
     "output_type": "execute_result"
    },
    {
     "data": {
      "image/png": "[encoded data removed]",
      "text/plain": [
       "<Figure size 432x288 with 2 Axes>"
      ]
     },
     "metadata": {
      "needs_background": "light"
     },
     "output_type": "display_data"
    }
   ],
   "source": [
    "disp = ConfusionMatrixDisplay(confusion_matrix=confusion_matrix(test_taste_score,y_pred_rf_taste))\n",
    "disp.plot(cmap='Blues')"
   ]
  },
  {
   "cell_type": "markdown",
   "metadata": {},
   "source": [
    "### quantity"
   ]
  },
  {
   "cell_type": "code",
   "execution_count": 264,
   "metadata": {},
   "outputs": [],
   "source": [
    "rf_best_models['quantity']\n",
    "rf_quantity = rf_best_models['quantity']\n",
    "y_pred_rf_quantity = rf_quantity.predict(x_test_quan)"
   ]
  },
  {
   "cell_type": "code",
   "execution_count": 267,
   "metadata": {},
   "outputs": [
    {
     "name": "stdout",
     "output_type": "stream",
     "text": [
      "              precision    recall  f1-score   support\n",
      "\n",
      "           1       0.00      0.00      0.00        38\n",
      "           2       0.00      0.00      0.00        46\n",
      "           3       1.00      0.01      0.03       134\n",
      "           4       0.00      0.00      0.00       268\n",
      "           5       0.81      1.00      0.90      2126\n",
      "\n",
      "    accuracy                           0.81      2612\n",
      "   macro avg       0.36      0.20      0.19      2612\n",
      "weighted avg       0.71      0.81      0.73      2612\n",
      "\n"
     ]
    },
    {
     "name": "stderr",
     "output_type": "stream",
     "text": [
      "/home/fakenews/anaconda3/envs/fakenews/lib/python3.7/site-packages/sklearn/metrics/_classification.py:1245: UndefinedMetricWarning: Precision and F-score are ill-defined and being set to 0.0 in labels with no predicted samples. Use `zero_division` parameter to control this behavior.\n",
      "  _warn_prf(average, modifier, msg_start, len(result))\n",
      "/home/fakenews/anaconda3/envs/fakenews/lib/python3.7/site-packages/sklearn/metrics/_classification.py:1245: UndefinedMetricWarning: Precision and F-score are ill-defined and being set to 0.0 in labels with no predicted samples. Use `zero_division` parameter to control this behavior.\n",
      "  _warn_prf(average, modifier, msg_start, len(result))\n",
      "/home/fakenews/anaconda3/envs/fakenews/lib/python3.7/site-packages/sklearn/metrics/_classification.py:1245: UndefinedMetricWarning: Precision and F-score are ill-defined and being set to 0.0 in labels with no predicted samples. Use `zero_division` parameter to control this behavior.\n",
      "  _warn_prf(average, modifier, msg_start, len(result))\n"
     ]
    }
   ],
   "source": [
    "print(classification_report(test_quantity_score, y_pred_rf_quantity, target_names=(\"1\", \"2\", \"3\", \"4\", \"5\")))\n",
    "test_quantity['rf_quantity_pred'] = y_pred_rf_quantity"
   ]
  },
  {
   "cell_type": "markdown",
   "metadata": {},
   "source": [
    "#### 실제 별점과는 다르지만 텍스트 기반으로 별점을 예측한 결과"
   ]
  },
  {
   "cell_type": "markdown",
   "metadata": {},
   "source": [
    "'양'\n",
    "\n",
    "Label : 3 - Pred : 4 - Text : 양이 좀 적은 것 빼곤 괜찮아요~~~^^"
   ]
  },
  {
   "cell_type": "code",
   "execution_count": 298,
   "metadata": {},
   "outputs": [
    {
     "data": {
      "text/plain": [
       "<sklearn.metrics._plot.confusion_matrix.ConfusionMatrixDisplay at 0x7f8d8401b850>"
      ]
     },
     "execution_count": 298,
     "metadata": {},
     "output_type": "execute_result"
    },
    {
     "data": {
      "image/png": "[encoded data removed]",
      "text/plain": [
       "<Figure size 432x288 with 2 Axes>"
      ]
     },
     "metadata": {
      "needs_background": "light"
     },
     "output_type": "display_data"
    }
   ],
   "source": [
    "disp = ConfusionMatrixDisplay(confusion_matrix=confusion_matrix(test_quantity_score,y_pred_sgd_quantity))\n",
    "disp.plot(cmap='Blues')"
   ]
  },
  {
   "cell_type": "markdown",
   "metadata": {},
   "source": [
    "### delivery\n",
    "        "
   ]
  },
  {
   "cell_type": "code",
   "execution_count": 270,
   "metadata": {},
   "outputs": [],
   "source": [
    "rf_best_models['delivery']\n",
    "rf_delivery = rf_best_models['delivery']\n",
    "y_pred_rf_delivery = rf_delivery.predict(x_test_deliv)"
   ]
  },
  {
   "cell_type": "code",
   "execution_count": 273,
   "metadata": {},
   "outputs": [
    {
     "name": "stdout",
     "output_type": "stream",
     "text": [
      "              precision    recall  f1-score   support\n",
      "\n",
      "           1       1.00      0.03      0.06       167\n",
      "           2       0.00      0.00      0.00        62\n",
      "           3       0.00      0.00      0.00       143\n",
      "           4       0.00      0.00      0.00       278\n",
      "           5       0.81      1.00      0.89      2673\n",
      "\n",
      "    accuracy                           0.81      3323\n",
      "   macro avg       0.36      0.21      0.19      3323\n",
      "weighted avg       0.70      0.81      0.72      3323\n",
      "\n"
     ]
    },
    {
     "name": "stderr",
     "output_type": "stream",
     "text": [
      "/home/fakenews/anaconda3/envs/fakenews/lib/python3.7/site-packages/sklearn/metrics/_classification.py:1245: UndefinedMetricWarning: Precision and F-score are ill-defined and being set to 0.0 in labels with no predicted samples. Use `zero_division` parameter to control this behavior.\n",
      "  _warn_prf(average, modifier, msg_start, len(result))\n",
      "/home/fakenews/anaconda3/envs/fakenews/lib/python3.7/site-packages/sklearn/metrics/_classification.py:1245: UndefinedMetricWarning: Precision and F-score are ill-defined and being set to 0.0 in labels with no predicted samples. Use `zero_division` parameter to control this behavior.\n",
      "  _warn_prf(average, modifier, msg_start, len(result))\n",
      "/home/fakenews/anaconda3/envs/fakenews/lib/python3.7/site-packages/sklearn/metrics/_classification.py:1245: UndefinedMetricWarning: Precision and F-score are ill-defined and being set to 0.0 in labels with no predicted samples. Use `zero_division` parameter to control this behavior.\n",
      "  _warn_prf(average, modifier, msg_start, len(result))\n"
     ]
    }
   ],
   "source": [
    "print(classification_report(test_delivery_score, y_pred_rf_delivery, target_names=(\"1\", \"2\", \"3\", \"4\", \"5\")))\n",
    "test_delivery['rf_delivery_pred'] = y_pred_rf_delivery"
   ]
  },
  {
   "cell_type": "code",
   "execution_count": 275,
   "metadata": {},
   "outputs": [
    {
     "data": {
      "text/plain": [
       "<sklearn.metrics._plot.confusion_matrix.ConfusionMatrixDisplay at 0x7f8d7c4bf510>"
      ]
     },
     "execution_count": 275,
     "metadata": {},
     "output_type": "execute_result"
    },
    {
     "data": {
      "image/png": "[encoded data removed]",
      "text/plain": [
       "<Figure size 432x288 with 2 Axes>"
      ]
     },
     "metadata": {
      "needs_background": "light"
     },
     "output_type": "display_data"
    }
   ],
   "source": [
    "disp = ConfusionMatrixDisplay(confusion_matrix=confusion_matrix(test_delivery_score,y_pred_rf_delivery))\n",
    "disp.plot(cmap='Blues')"
   ]
  },
  {
   "cell_type": "markdown",
   "metadata": {},
   "source": [
    "## SGD Classifier"
   ]
  },
  {
   "cell_type": "code",
   "execution_count": 302,
   "metadata": {},
   "outputs": [
    {
     "name": "stderr",
     "output_type": "stream",
     "text": [
      "/home/fakenews/anaconda3/envs/fakenews/lib/python3.7/site-packages/sklearn/linear_model/_stochastic_gradient.py:577: ConvergenceWarning: Maximum number of iteration reached before convergence. Consider increasing max_iter to improve the fit.\n",
      "  ConvergenceWarning)\n",
      "/home/fakenews/anaconda3/envs/fakenews/lib/python3.7/site-packages/sklearn/linear_model/_stochastic_gradient.py:577: ConvergenceWarning: Maximum number of iteration reached before convergence. Consider increasing max_iter to improve the fit.\n",
      "  ConvergenceWarning)\n",
      "/home/fakenews/anaconda3/envs/fakenews/lib/python3.7/site-packages/sklearn/linear_model/_stochastic_gradient.py:577: ConvergenceWarning: Maximum number of iteration reached before convergence. Consider increasing max_iter to improve the fit.\n",
      "  ConvergenceWarning)\n",
      "/home/fakenews/anaconda3/envs/fakenews/lib/python3.7/site-packages/sklearn/linear_model/_stochastic_gradient.py:577: ConvergenceWarning: Maximum number of iteration reached before convergence. Consider increasing max_iter to improve the fit.\n",
      "  ConvergenceWarning)\n",
      "/home/fakenews/anaconda3/envs/fakenews/lib/python3.7/site-packages/sklearn/linear_model/_stochastic_gradient.py:577: ConvergenceWarning: Maximum number of iteration reached before convergence. Consider increasing max_iter to improve the fit.\n",
      "  ConvergenceWarning)\n",
      "/home/fakenews/anaconda3/envs/fakenews/lib/python3.7/site-packages/sklearn/linear_model/_stochastic_gradient.py:577: ConvergenceWarning: Maximum number of iteration reached before convergence. Consider increasing max_iter to improve the fit.\n",
      "  ConvergenceWarning)\n",
      "/home/fakenews/anaconda3/envs/fakenews/lib/python3.7/site-packages/sklearn/linear_model/_stochastic_gradient.py:577: ConvergenceWarning: Maximum number of iteration reached before convergence. Consider increasing max_iter to improve the fit.\n",
      "  ConvergenceWarning)\n",
      "/home/fakenews/anaconda3/envs/fakenews/lib/python3.7/site-packages/sklearn/linear_model/_stochastic_gradient.py:577: ConvergenceWarning: Maximum number of iteration reached before convergence. Consider increasing max_iter to improve the fit.\n",
      "  ConvergenceWarning)\n",
      "/home/fakenews/anaconda3/envs/fakenews/lib/python3.7/site-packages/sklearn/linear_model/_stochastic_gradient.py:577: ConvergenceWarning: Maximum number of iteration reached before convergence. Consider increasing max_iter to improve the fit.\n",
      "  ConvergenceWarning)\n",
      "/home/fakenews/anaconda3/envs/fakenews/lib/python3.7/site-packages/sklearn/linear_model/_stochastic_gradient.py:577: ConvergenceWarning: Maximum number of iteration reached before convergence. Consider increasing max_iter to improve the fit.\n",
      "  ConvergenceWarning)\n",
      "/home/fakenews/anaconda3/envs/fakenews/lib/python3.7/site-packages/sklearn/linear_model/_stochastic_gradient.py:577: ConvergenceWarning: Maximum number of iteration reached before convergence. Consider increasing max_iter to improve the fit.\n",
      "  ConvergenceWarning)\n",
      "/home/fakenews/anaconda3/envs/fakenews/lib/python3.7/site-packages/sklearn/linear_model/_stochastic_gradient.py:577: ConvergenceWarning: Maximum number of iteration reached before convergence. Consider increasing max_iter to improve the fit.\n",
      "  ConvergenceWarning)\n",
      "/home/fakenews/anaconda3/envs/fakenews/lib/python3.7/site-packages/sklearn/linear_model/_stochastic_gradient.py:577: ConvergenceWarning: Maximum number of iteration reached before convergence. Consider increasing max_iter to improve the fit.\n",
      "  ConvergenceWarning)\n",
      "/home/fakenews/anaconda3/envs/fakenews/lib/python3.7/site-packages/sklearn/linear_model/_stochastic_gradient.py:577: ConvergenceWarning: Maximum number of iteration reached before convergence. Consider increasing max_iter to improve the fit.\n",
      "  ConvergenceWarning)\n"
     ]
    }
   ],
   "source": [
    "#random search를 사용하여 파라미터 튜닝을 마친 모델 딕셔너리로 저장\n",
    "sgd_best_models = dict() \n",
    "for label in labels:\n",
    "    train_tup, test_tup = vector_label[label]\n",
    "    x_train, y_train = train_tup\n",
    "    x_test, y_test = test_tup\n",
    "    sgd_clf = SGDClassifier(max_iter=30, random_state=42)\n",
    "    sgd_params = {'average': [True, False], 'l1_ratio': np.linspace(0, 1, num=10), 'alpha': np.power(10, np.arange(-4, 1, dtype=float))}\n",
    "\n",
    "    randomized_search_sgd = RandomizedSearchCV(sgd_clf, param_distributions=sgd_params, n_iter=5, scoring='accuracy', cv=5) \n",
    "    randomized_search_sgd.fit(x_train, y_train)\n",
    "    best_sgd = randomized_search_sgd.best_estimator_\n",
    "    best_sgd.fit(x_train,y_train)\n",
    "    sgd_best_models[label] = best_sgd\n",
    "    "
   ]
  },
  {
   "cell_type": "markdown",
   "metadata": {},
   "source": [
    "### taste"
   ]
  },
  {
   "cell_type": "code",
   "execution_count": 327,
   "metadata": {},
   "outputs": [],
   "source": [
    "train_tup, test_tup = vector_label['taste']\n",
    "x_train, y_train = train_tup\n",
    "x_test, y_test = test_tup"
   ]
  },
  {
   "cell_type": "code",
   "execution_count": 328,
   "metadata": {},
   "outputs": [
    {
     "data": {
      "text/plain": [
       "SGDClassifier(alpha=0.1, average=True, l1_ratio=0.1111111111111111, max_iter=30,\n",
       "              random_state=42)"
      ]
     },
     "execution_count": 328,
     "metadata": {},
     "output_type": "execute_result"
    }
   ],
   "source": [
    "sgd_best_models['taste']"
   ]
  },
  {
   "cell_type": "code",
   "execution_count": 329,
   "metadata": {},
   "outputs": [],
   "source": [
    "sgd_taste = sgd_best_models['taste']\n",
    "y_pred_sgd_taste = sgd_taste.predict(x_test)\n"
   ]
  },
  {
   "cell_type": "code",
   "execution_count": 330,
   "metadata": {},
   "outputs": [
    {
     "name": "stdout",
     "output_type": "stream",
     "text": [
      "              precision    recall  f1-score   support\n",
      "\n",
      "           1       0.00      0.00      0.00        89\n",
      "           2       0.00      0.00      0.00        73\n",
      "           3       0.00      0.00      0.00       288\n",
      "           4       0.00      0.00      0.00      1186\n",
      "           5       0.86      1.00      0.93     10120\n",
      "\n",
      "    accuracy                           0.86     11756\n",
      "   macro avg       0.17      0.20      0.19     11756\n",
      "weighted avg       0.74      0.86      0.80     11756\n",
      "\n"
     ]
    },
    {
     "name": "stderr",
     "output_type": "stream",
     "text": [
      "/home/fakenews/anaconda3/envs/fakenews/lib/python3.7/site-packages/sklearn/metrics/_classification.py:1245: UndefinedMetricWarning: Precision and F-score are ill-defined and being set to 0.0 in labels with no predicted samples. Use `zero_division` parameter to control this behavior.\n",
      "  _warn_prf(average, modifier, msg_start, len(result))\n",
      "/home/fakenews/anaconda3/envs/fakenews/lib/python3.7/site-packages/sklearn/metrics/_classification.py:1245: UndefinedMetricWarning: Precision and F-score are ill-defined and being set to 0.0 in labels with no predicted samples. Use `zero_division` parameter to control this behavior.\n",
      "  _warn_prf(average, modifier, msg_start, len(result))\n",
      "/home/fakenews/anaconda3/envs/fakenews/lib/python3.7/site-packages/sklearn/metrics/_classification.py:1245: UndefinedMetricWarning: Precision and F-score are ill-defined and being set to 0.0 in labels with no predicted samples. Use `zero_division` parameter to control this behavior.\n",
      "  _warn_prf(average, modifier, msg_start, len(result))\n"
     ]
    }
   ],
   "source": [
    "print(classification_report(test_taste_score, y_pred_sgd_taste, target_names=(\"1\", \"2\", \"3\", \"4\", \"5\")))\n",
    "test_taste['sgd_taste_pred'] = y_pred_sgd_taste\n"
   ]
  },
  {
   "cell_type": "code",
   "execution_count": 308,
   "metadata": {},
   "outputs": [
    {
     "data": {
      "text/plain": [
       "<sklearn.metrics._plot.confusion_matrix.ConfusionMatrixDisplay at 0x7f8d83aefc90>"
      ]
     },
     "execution_count": 308,
     "metadata": {},
     "output_type": "execute_result"
    },
    {
     "data": {
      "image/png": "[encoded data removed]",
      "text/plain": [
       "<Figure size 432x288 with 2 Axes>"
      ]
     },
     "metadata": {
      "needs_background": "light"
     },
     "output_type": "display_data"
    }
   ],
   "source": [
    "disp = ConfusionMatrixDisplay(confusion_matrix=confusion_matrix(test_taste_score,y_pred_sgd_taste))\n",
    "disp.plot(cmap='Blues')"
   ]
  },
  {
   "cell_type": "markdown",
   "metadata": {},
   "source": [
    "### quantity"
   ]
  },
  {
   "cell_type": "code",
   "execution_count": 309,
   "metadata": {},
   "outputs": [],
   "source": [
    "sgd_quantity = sgd_best_models['quantity']\n",
    "y_pred_sgd_quantity = sgd_quantity.predict(x_test_quan)\n"
   ]
  },
  {
   "cell_type": "code",
   "execution_count": 312,
   "metadata": {
    "scrolled": true
   },
   "outputs": [
    {
     "name": "stdout",
     "output_type": "stream",
     "text": [
      "              precision    recall  f1-score   support\n",
      "\n",
      "           1       0.00      0.00      0.00        38\n",
      "           2       0.00      0.00      0.00        46\n",
      "           3       0.35      0.18      0.24       134\n",
      "           4       1.00      0.00      0.01       268\n",
      "           5       0.83      0.99      0.91      2126\n",
      "\n",
      "    accuracy                           0.82      2612\n",
      "   macro avg       0.44      0.24      0.23      2612\n",
      "weighted avg       0.80      0.82      0.75      2612\n",
      "\n"
     ]
    },
    {
     "name": "stderr",
     "output_type": "stream",
     "text": [
      "/home/fakenews/anaconda3/envs/fakenews/lib/python3.7/site-packages/sklearn/metrics/_classification.py:1245: UndefinedMetricWarning: Precision and F-score are ill-defined and being set to 0.0 in labels with no predicted samples. Use `zero_division` parameter to control this behavior.\n",
      "  _warn_prf(average, modifier, msg_start, len(result))\n",
      "/home/fakenews/anaconda3/envs/fakenews/lib/python3.7/site-packages/sklearn/metrics/_classification.py:1245: UndefinedMetricWarning: Precision and F-score are ill-defined and being set to 0.0 in labels with no predicted samples. Use `zero_division` parameter to control this behavior.\n",
      "  _warn_prf(average, modifier, msg_start, len(result))\n",
      "/home/fakenews/anaconda3/envs/fakenews/lib/python3.7/site-packages/sklearn/metrics/_classification.py:1245: UndefinedMetricWarning: Precision and F-score are ill-defined and being set to 0.0 in labels with no predicted samples. Use `zero_division` parameter to control this behavior.\n",
      "  _warn_prf(average, modifier, msg_start, len(result))\n"
     ]
    }
   ],
   "source": [
    "print(classification_report(test_quantity_score, y_pred_sgd_quantity, target_names=(\"1\", \"2\", \"3\", \"4\", \"5\")))\n",
    "test_quantity['sgd_quantity_pred'] = y_pred_sgd_quantity\n"
   ]
  },
  {
   "cell_type": "markdown",
   "metadata": {},
   "source": [
    "#### 실제 별점과는 다르지만 텍스트 기반으로 별점을 예측한 결과"
   ]
  },
  {
   "cell_type": "markdown",
   "metadata": {},
   "source": [
    "'양'\n",
    "\n",
    "Label : 4 - Pred : 3 - Text : 생각보다 양이 적습니다. 맛은 맛있네요ㅎ\n",
    "\n",
    "Label : 2 - Pred : 3 - Text : 맛은 있는데 양이 좀 적네요"
   ]
  },
  {
   "cell_type": "code",
   "execution_count": 314,
   "metadata": {},
   "outputs": [
    {
     "data": {
      "text/plain": [
       "<sklearn.metrics._plot.confusion_matrix.ConfusionMatrixDisplay at 0x7f8d8388d250>"
      ]
     },
     "execution_count": 314,
     "metadata": {},
     "output_type": "execute_result"
    },
    {
     "data": {
      "image/png": "[encoded data removed]",
      "text/plain": [
       "<Figure size 432x288 with 2 Axes>"
      ]
     },
     "metadata": {
      "needs_background": "light"
     },
     "output_type": "display_data"
    }
   ],
   "source": [
    "disp = ConfusionMatrixDisplay(confusion_matrix=confusion_matrix(test_quantity_score,y_pred_sgd_quantity))\n",
    "disp.plot(cmap='Blues')"
   ]
  },
  {
   "cell_type": "markdown",
   "metadata": {},
   "source": [
    "### delivery"
   ]
  },
  {
   "cell_type": "code",
   "execution_count": 316,
   "metadata": {},
   "outputs": [],
   "source": [
    "sgd_delivery = sgd_best_models['delivery']\n",
    "y_pred_sgd_delivery = sgd_delivery.predict(x_test_deliv)\n"
   ]
  },
  {
   "cell_type": "code",
   "execution_count": 317,
   "metadata": {},
   "outputs": [
    {
     "name": "stdout",
     "output_type": "stream",
     "text": [
      "              precision    recall  f1-score   support\n",
      "\n",
      "           1       0.62      0.47      0.53       167\n",
      "           2       0.00      0.00      0.00        62\n",
      "           3       0.42      0.08      0.13       143\n",
      "           4       0.00      0.00      0.00       278\n",
      "           5       0.84      1.00      0.91      2673\n",
      "\n",
      "    accuracy                           0.83      3323\n",
      "   macro avg       0.38      0.31      0.32      3323\n",
      "weighted avg       0.72      0.83      0.77      3323\n",
      "\n"
     ]
    },
    {
     "name": "stderr",
     "output_type": "stream",
     "text": [
      "/home/fakenews/anaconda3/envs/fakenews/lib/python3.7/site-packages/sklearn/metrics/_classification.py:1245: UndefinedMetricWarning: Precision and F-score are ill-defined and being set to 0.0 in labels with no predicted samples. Use `zero_division` parameter to control this behavior.\n",
      "  _warn_prf(average, modifier, msg_start, len(result))\n",
      "/home/fakenews/anaconda3/envs/fakenews/lib/python3.7/site-packages/sklearn/metrics/_classification.py:1245: UndefinedMetricWarning: Precision and F-score are ill-defined and being set to 0.0 in labels with no predicted samples. Use `zero_division` parameter to control this behavior.\n",
      "  _warn_prf(average, modifier, msg_start, len(result))\n",
      "/home/fakenews/anaconda3/envs/fakenews/lib/python3.7/site-packages/sklearn/metrics/_classification.py:1245: UndefinedMetricWarning: Precision and F-score are ill-defined and being set to 0.0 in labels with no predicted samples. Use `zero_division` parameter to control this behavior.\n",
      "  _warn_prf(average, modifier, msg_start, len(result))\n"
     ]
    }
   ],
   "source": [
    "print(classification_report(test_delivery_score, y_pred_sgd_delivery, target_names=(\"1\", \"2\", \"3\", \"4\", \"5\")))\n",
    "test_delivery['sgd_delivery_pred'] = y_pred_sgd_delivery\n"
   ]
  },
  {
   "cell_type": "markdown",
   "metadata": {},
   "source": [
    "#### 실제 별점과는 다르지만 텍스트 기반으로 별점을 예측한 결과"
   ]
  },
  {
   "cell_type": "markdown",
   "metadata": {},
   "source": [
    "'배달'\n",
    "\n",
    "Label : 4 - Pred : 1 - Text : 배달,, 너무 오래 걸리네요 ㅠㅠ\n",
    "\n",
    "Label : 4 - Pred : 1 - Text : 배달 예상시간 30분인데 한 시간 걸려서 오셨고 버거는 다 식었네요."
   ]
  },
  {
   "cell_type": "code",
   "execution_count": 323,
   "metadata": {},
   "outputs": [
    {
     "data": {
      "text/plain": [
       "<sklearn.metrics._plot.confusion_matrix.ConfusionMatrixDisplay at 0x7f8d83611e10>"
      ]
     },
     "execution_count": 323,
     "metadata": {},
     "output_type": "execute_result"
    },
    {
     "data": {
      "image/png": "[encoded data removed]",
      "text/plain": [
       "<Figure size 432x288 with 2 Axes>"
      ]
     },
     "metadata": {
      "needs_background": "light"
     },
     "output_type": "display_data"
    }
   ],
   "source": [
    "disp = ConfusionMatrixDisplay(confusion_matrix=confusion_matrix(test_delivery_score,y_pred_sgd_delivery))\n",
    "disp.plot(cmap='Blues')"
   ]
  }
 ],
 "metadata": {
  "interpreter": {
   "hash": "0adcc2737ebf6a4a119f135174df96668767fca1ef1112612db5ecadf2b6d608"
  },
  "kernelspec": {
   "display_name": "Python 3",
   "language": "python",
   "name": "python3"
  },
  "language_info": {
   "codemirror_mode": {
    "name": "ipython",
    "version": 3
   },
   "file_extension": ".py",
   "mimetype": "text/x-python",
   "name": "python",
   "nbconvert_exporter": "python",
   "pygments_lexer": "ipython3",
   "version": "3.8.12"
  }
 },
 "nbformat": 4,
 "nbformat_minor": 2
}
